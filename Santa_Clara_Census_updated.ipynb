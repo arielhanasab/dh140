{
 "cells": [
  {
   "cell_type": "markdown",
   "metadata": {},
   "source": [
    "# Santa Clara County Census Data\n",
    "By Ariel Hanasab\n",
    "\n",
    "This is a short analysis on the Santa Clara County Census Data. Santa Clara County contains Silicon Valley, which is headquarters to some of the biggest companies of the world. This analysis will take a look at the average income in Santa Clara County in comparison to California and the rest of the United States."
   ]
  },
  {
   "cell_type": "markdown",
   "metadata": {},
   "source": [
    "## Libraries"
   ]
  },
  {
   "cell_type": "code",
   "execution_count": 1,
   "metadata": {},
   "outputs": [],
   "source": [
    "# for general data wrangling tasks\n",
    "import pandas as pd\n",
    "\n",
    "# to read and visualize spatial data\n",
    "import geopandas as gpd\n",
    "\n",
    "# to provide basemaps \n",
    "import contextily as ctx\n",
    "\n",
    "# to give more power to your figures (plots)\n",
    "import matplotlib.pyplot as plt"
   ]
  },
  {
   "cell_type": "markdown",
   "metadata": {},
   "source": [
    "## Importing the Data"
   ]
  },
  {
   "cell_type": "code",
   "execution_count": 2,
   "metadata": {},
   "outputs": [],
   "source": [
    "gdf = gpd.read_file(\"santa_clara_census_data.geojson\")"
   ]
  },
  {
   "cell_type": "markdown",
   "metadata": {},
   "source": [
    "## Preliminary Inspection"
   ]
  },
  {
   "cell_type": "code",
   "execution_count": 3,
   "metadata": {},
   "outputs": [
    {
     "data": {
      "text/plain": [
       "(3, 37)"
      ]
     },
     "execution_count": 3,
     "metadata": {},
     "output_type": "execute_result"
    }
   ],
   "source": [
    "gdf.shape"
   ]
  },
  {
   "cell_type": "code",
   "execution_count": 4,
   "metadata": {},
   "outputs": [
    {
     "data": {
      "text/html": [
       "<div>\n",
       "<style scoped>\n",
       "    .dataframe tbody tr th:only-of-type {\n",
       "        vertical-align: middle;\n",
       "    }\n",
       "\n",
       "    .dataframe tbody tr th {\n",
       "        vertical-align: top;\n",
       "    }\n",
       "\n",
       "    .dataframe thead th {\n",
       "        text-align: right;\n",
       "    }\n",
       "</style>\n",
       "<table border=\"1\" class=\"dataframe\">\n",
       "  <thead>\n",
       "    <tr style=\"text-align: right;\">\n",
       "      <th></th>\n",
       "      <th>geoid</th>\n",
       "      <th>name</th>\n",
       "      <th>B19001001</th>\n",
       "      <th>B19001001, Error</th>\n",
       "      <th>B19001002</th>\n",
       "      <th>B19001002, Error</th>\n",
       "      <th>B19001003</th>\n",
       "      <th>B19001003, Error</th>\n",
       "      <th>B19001004</th>\n",
       "      <th>B19001004, Error</th>\n",
       "      <th>...</th>\n",
       "      <th>B19001013, Error</th>\n",
       "      <th>B19001014</th>\n",
       "      <th>B19001014, Error</th>\n",
       "      <th>B19001015</th>\n",
       "      <th>B19001015, Error</th>\n",
       "      <th>B19001016</th>\n",
       "      <th>B19001016, Error</th>\n",
       "      <th>B19001017</th>\n",
       "      <th>B19001017, Error</th>\n",
       "      <th>geometry</th>\n",
       "    </tr>\n",
       "  </thead>\n",
       "  <tbody>\n",
       "    <tr>\n",
       "      <th>0</th>\n",
       "      <td>01000US</td>\n",
       "      <td>United States</td>\n",
       "      <td>122802852.0</td>\n",
       "      <td>137327.0</td>\n",
       "      <td>7118907.0</td>\n",
       "      <td>42565.0</td>\n",
       "      <td>4940584.0</td>\n",
       "      <td>35307.0</td>\n",
       "      <td>4838678.0</td>\n",
       "      <td>38067.0</td>\n",
       "      <td>...</td>\n",
       "      <td>75827.0</td>\n",
       "      <td>11650162.0</td>\n",
       "      <td>61394.0</td>\n",
       "      <td>7652757.0</td>\n",
       "      <td>44359.0</td>\n",
       "      <td>8802761.0</td>\n",
       "      <td>50642.0</td>\n",
       "      <td>10422243.0</td>\n",
       "      <td>46629.0</td>\n",
       "      <td>MULTIPOLYGON (((-168.22527 -14.53591, -168.199...</td>\n",
       "    </tr>\n",
       "    <tr>\n",
       "      <th>1</th>\n",
       "      <td>04000US06</td>\n",
       "      <td>California</td>\n",
       "      <td>13157873.0</td>\n",
       "      <td>23844.0</td>\n",
       "      <td>601685.0</td>\n",
       "      <td>11736.0</td>\n",
       "      <td>490306.0</td>\n",
       "      <td>11213.0</td>\n",
       "      <td>408350.0</td>\n",
       "      <td>10868.0</td>\n",
       "      <td>...</td>\n",
       "      <td>20140.0</td>\n",
       "      <td>1344893.0</td>\n",
       "      <td>20577.0</td>\n",
       "      <td>939786.0</td>\n",
       "      <td>16383.0</td>\n",
       "      <td>1241231.0</td>\n",
       "      <td>17972.0</td>\n",
       "      <td>1802741.0</td>\n",
       "      <td>18330.0</td>\n",
       "      <td>MULTIPOLYGON (((-124.13656 41.46445, -124.1378...</td>\n",
       "    </tr>\n",
       "    <tr>\n",
       "      <th>2</th>\n",
       "      <td>05000US06085</td>\n",
       "      <td>Santa Clara County, CA</td>\n",
       "      <td>643637.0</td>\n",
       "      <td>4477.0</td>\n",
       "      <td>15900.0</td>\n",
       "      <td>2072.0</td>\n",
       "      <td>14760.0</td>\n",
       "      <td>2097.0</td>\n",
       "      <td>11376.0</td>\n",
       "      <td>2130.0</td>\n",
       "      <td>...</td>\n",
       "      <td>3890.0</td>\n",
       "      <td>57858.0</td>\n",
       "      <td>3425.0</td>\n",
       "      <td>48078.0</td>\n",
       "      <td>3638.0</td>\n",
       "      <td>85023.0</td>\n",
       "      <td>4017.0</td>\n",
       "      <td>203393.0</td>\n",
       "      <td>5351.0</td>\n",
       "      <td>MULTIPOLYGON (((-122.04412 37.20049, -122.0440...</td>\n",
       "    </tr>\n",
       "  </tbody>\n",
       "</table>\n",
       "<p>3 rows × 37 columns</p>\n",
       "</div>"
      ],
      "text/plain": [
       "          geoid                    name    B19001001  B19001001, Error  \\\n",
       "0       01000US           United States  122802852.0          137327.0   \n",
       "1     04000US06              California   13157873.0           23844.0   \n",
       "2  05000US06085  Santa Clara County, CA     643637.0            4477.0   \n",
       "\n",
       "   B19001002  B19001002, Error  B19001003  B19001003, Error  B19001004  \\\n",
       "0  7118907.0           42565.0  4940584.0           35307.0  4838678.0   \n",
       "1   601685.0           11736.0   490306.0           11213.0   408350.0   \n",
       "2    15900.0            2072.0    14760.0            2097.0    11376.0   \n",
       "\n",
       "   B19001004, Error  ...  B19001013, Error   B19001014  B19001014, Error  \\\n",
       "0           38067.0  ...           75827.0  11650162.0           61394.0   \n",
       "1           10868.0  ...           20140.0   1344893.0           20577.0   \n",
       "2            2130.0  ...            3890.0     57858.0            3425.0   \n",
       "\n",
       "   B19001015  B19001015, Error  B19001016  B19001016, Error   B19001017  \\\n",
       "0  7652757.0           44359.0  8802761.0           50642.0  10422243.0   \n",
       "1   939786.0           16383.0  1241231.0           17972.0   1802741.0   \n",
       "2    48078.0            3638.0    85023.0            4017.0    203393.0   \n",
       "\n",
       "   B19001017, Error                                           geometry  \n",
       "0           46629.0  MULTIPOLYGON (((-168.22527 -14.53591, -168.199...  \n",
       "1           18330.0  MULTIPOLYGON (((-124.13656 41.46445, -124.1378...  \n",
       "2            5351.0  MULTIPOLYGON (((-122.04412 37.20049, -122.0440...  \n",
       "\n",
       "[3 rows x 37 columns]"
      ]
     },
     "execution_count": 4,
     "metadata": {},
     "output_type": "execute_result"
    }
   ],
   "source": [
    "gdf.head()"
   ]
  },
  {
   "cell_type": "code",
   "execution_count": 5,
   "metadata": {},
   "outputs": [
    {
     "name": "stdout",
     "output_type": "stream",
     "text": [
      "<class 'geopandas.geodataframe.GeoDataFrame'>\n",
      "RangeIndex: 3 entries, 0 to 2\n",
      "Data columns (total 37 columns):\n",
      " #   Column            Non-Null Count  Dtype   \n",
      "---  ------            --------------  -----   \n",
      " 0   geoid             3 non-null      object  \n",
      " 1   name              3 non-null      object  \n",
      " 2   B19001001         3 non-null      float64 \n",
      " 3   B19001001, Error  3 non-null      float64 \n",
      " 4   B19001002         3 non-null      float64 \n",
      " 5   B19001002, Error  3 non-null      float64 \n",
      " 6   B19001003         3 non-null      float64 \n",
      " 7   B19001003, Error  3 non-null      float64 \n",
      " 8   B19001004         3 non-null      float64 \n",
      " 9   B19001004, Error  3 non-null      float64 \n",
      " 10  B19001005         3 non-null      float64 \n",
      " 11  B19001005, Error  3 non-null      float64 \n",
      " 12  B19001006         3 non-null      float64 \n",
      " 13  B19001006, Error  3 non-null      float64 \n",
      " 14  B19001007         3 non-null      float64 \n",
      " 15  B19001007, Error  3 non-null      float64 \n",
      " 16  B19001008         3 non-null      float64 \n",
      " 17  B19001008, Error  3 non-null      float64 \n",
      " 18  B19001009         3 non-null      float64 \n",
      " 19  B19001009, Error  3 non-null      float64 \n",
      " 20  B19001010         3 non-null      float64 \n",
      " 21  B19001010, Error  3 non-null      float64 \n",
      " 22  B19001011         3 non-null      float64 \n",
      " 23  B19001011, Error  3 non-null      float64 \n",
      " 24  B19001012         3 non-null      float64 \n",
      " 25  B19001012, Error  3 non-null      float64 \n",
      " 26  B19001013         3 non-null      float64 \n",
      " 27  B19001013, Error  3 non-null      float64 \n",
      " 28  B19001014         3 non-null      float64 \n",
      " 29  B19001014, Error  3 non-null      float64 \n",
      " 30  B19001015         3 non-null      float64 \n",
      " 31  B19001015, Error  3 non-null      float64 \n",
      " 32  B19001016         3 non-null      float64 \n",
      " 33  B19001016, Error  3 non-null      float64 \n",
      " 34  B19001017         3 non-null      float64 \n",
      " 35  B19001017, Error  3 non-null      float64 \n",
      " 36  geometry          3 non-null      geometry\n",
      "dtypes: float64(34), geometry(1), object(2)\n",
      "memory usage: 1016.0+ bytes\n"
     ]
    }
   ],
   "source": [
    "gdf.info()"
   ]
  },
  {
   "cell_type": "code",
   "execution_count": 6,
   "metadata": {},
   "outputs": [
    {
     "data": {
      "text/plain": [
       "<matplotlib.axes._subplots.AxesSubplot at 0x7f95df906190>"
      ]
     },
     "execution_count": 6,
     "metadata": {},
     "output_type": "execute_result"
    },
    {
     "data": {
      "image/png": "[encoded data removed]",
      "text/plain": [
       "<Figure size 720x720 with 1 Axes>"
      ]
     },
     "metadata": {
      "needs_background": "light"
     },
     "output_type": "display_data"
    }
   ],
   "source": [
    "# Plot of Santa Clara County\n",
    "gdf[gdf['name'] == 'Santa Clara County, CA'].plot(figsize = (10,10))"
   ]
  },
  {
   "cell_type": "code",
   "execution_count": 7,
   "metadata": {},
   "outputs": [
    {
     "data": {
      "text/plain": [
       "<matplotlib.axes._subplots.AxesSubplot at 0x7f95df83a790>"
      ]
     },
     "execution_count": 7,
     "metadata": {},
     "output_type": "execute_result"
    },
    {
     "data": {
      "image/png": "[encoded data removed]",
      "text/plain": [
       "<Figure size 720x720 with 1 Axes>"
      ]
     },
     "metadata": {
      "needs_background": "light"
     },
     "output_type": "display_data"
    }
   ],
   "source": [
    "# Plot of California\n",
    "gdf[gdf['name'] == 'California'].plot(figsize = (10,10))"
   ]
  },
  {
   "cell_type": "code",
   "execution_count": 8,
   "metadata": {},
   "outputs": [
    {
     "data": {
      "text/plain": [
       "<matplotlib.axes._subplots.AxesSubplot at 0x7f95df815640>"
      ]
     },
     "execution_count": 8,
     "metadata": {},
     "output_type": "execute_result"
    },
    {
     "data": {
      "image/png": "[encoded data removed]",
      "text/plain": [
       "<Figure size 7200x360 with 1 Axes>"
      ]
     },
     "metadata": {
      "needs_background": "light"
     },
     "output_type": "display_data"
    }
   ],
   "source": [
    "# Plot of the United States\n",
    "gdf[gdf['name'] == 'United States'].plot(figsize = (100,5))"
   ]
  },
  {
   "cell_type": "markdown",
   "metadata": {},
   "source": [
    "## Data Frame Cleaning"
   ]
  },
  {
   "cell_type": "code",
   "execution_count": 9,
   "metadata": {},
   "outputs": [
    {
     "data": {
      "text/plain": [
       "['geoid',\n",
       " 'name',\n",
       " 'B19001001',\n",
       " 'B19001001, Error',\n",
       " 'B19001002',\n",
       " 'B19001002, Error',\n",
       " 'B19001003',\n",
       " 'B19001003, Error',\n",
       " 'B19001004',\n",
       " 'B19001004, Error',\n",
       " 'B19001005',\n",
       " 'B19001005, Error',\n",
       " 'B19001006',\n",
       " 'B19001006, Error',\n",
       " 'B19001007',\n",
       " 'B19001007, Error',\n",
       " 'B19001008',\n",
       " 'B19001008, Error',\n",
       " 'B19001009',\n",
       " 'B19001009, Error',\n",
       " 'B19001010',\n",
       " 'B19001010, Error',\n",
       " 'B19001011',\n",
       " 'B19001011, Error',\n",
       " 'B19001012',\n",
       " 'B19001012, Error',\n",
       " 'B19001013',\n",
       " 'B19001013, Error',\n",
       " 'B19001014',\n",
       " 'B19001014, Error',\n",
       " 'B19001015',\n",
       " 'B19001015, Error',\n",
       " 'B19001016',\n",
       " 'B19001016, Error',\n",
       " 'B19001017',\n",
       " 'B19001017, Error',\n",
       " 'geometry']"
      ]
     },
     "execution_count": 9,
     "metadata": {},
     "output_type": "execute_result"
    }
   ],
   "source": [
    "list(gdf)"
   ]
  },
  {
   "cell_type": "code",
   "execution_count": 10,
   "metadata": {},
   "outputs": [],
   "source": [
    "columns_to_keep = ['name',\n",
    " 'B19001001',\n",
    " 'B19001002',\n",
    " 'B19001003',\n",
    " 'B19001004',\n",
    " 'B19001005',\n",
    " 'B19001006',\n",
    " 'B19001007',\n",
    " 'B19001008',\n",
    " 'B19001009',\n",
    " 'B19001010',\n",
    " 'B19001011',\n",
    " 'B19001012',\n",
    " 'B19001013',\n",
    " 'B19001014',\n",
    " 'B19001015',\n",
    " 'B19001016',\n",
    " 'B19001017',\n",
    " 'geometry']"
   ]
  },
  {
   "cell_type": "code",
   "execution_count": 11,
   "metadata": {},
   "outputs": [],
   "source": [
    "# redefine gdf with only columns to keep\n",
    "gdf = gdf[columns_to_keep]"
   ]
  },
  {
   "cell_type": "code",
   "execution_count": 12,
   "metadata": {},
   "outputs": [
    {
     "data": {
      "text/html": [
       "<div>\n",
       "<style scoped>\n",
       "    .dataframe tbody tr th:only-of-type {\n",
       "        vertical-align: middle;\n",
       "    }\n",
       "\n",
       "    .dataframe tbody tr th {\n",
       "        vertical-align: top;\n",
       "    }\n",
       "\n",
       "    .dataframe thead th {\n",
       "        text-align: right;\n",
       "    }\n",
       "</style>\n",
       "<table border=\"1\" class=\"dataframe\">\n",
       "  <thead>\n",
       "    <tr style=\"text-align: right;\">\n",
       "      <th></th>\n",
       "      <th>name</th>\n",
       "      <th>B19001001</th>\n",
       "      <th>B19001002</th>\n",
       "      <th>B19001003</th>\n",
       "      <th>B19001004</th>\n",
       "      <th>B19001005</th>\n",
       "      <th>B19001006</th>\n",
       "      <th>B19001007</th>\n",
       "      <th>B19001008</th>\n",
       "      <th>B19001009</th>\n",
       "      <th>B19001010</th>\n",
       "      <th>B19001011</th>\n",
       "      <th>B19001012</th>\n",
       "      <th>B19001013</th>\n",
       "      <th>B19001014</th>\n",
       "      <th>B19001015</th>\n",
       "      <th>B19001016</th>\n",
       "      <th>B19001017</th>\n",
       "      <th>geometry</th>\n",
       "    </tr>\n",
       "  </thead>\n",
       "  <tbody>\n",
       "    <tr>\n",
       "      <th>0</th>\n",
       "      <td>United States</td>\n",
       "      <td>122802852.0</td>\n",
       "      <td>7118907.0</td>\n",
       "      <td>4940584.0</td>\n",
       "      <td>4838678.0</td>\n",
       "      <td>5322157.0</td>\n",
       "      <td>4984288.0</td>\n",
       "      <td>5320934.0</td>\n",
       "      <td>4933391.0</td>\n",
       "      <td>5114120.0</td>\n",
       "      <td>4620661.0</td>\n",
       "      <td>9080796.0</td>\n",
       "      <td>12247929.0</td>\n",
       "      <td>15752484.0</td>\n",
       "      <td>11650162.0</td>\n",
       "      <td>7652757.0</td>\n",
       "      <td>8802761.0</td>\n",
       "      <td>10422243.0</td>\n",
       "      <td>MULTIPOLYGON (((-168.22527 -14.53591, -168.199...</td>\n",
       "    </tr>\n",
       "    <tr>\n",
       "      <th>1</th>\n",
       "      <td>California</td>\n",
       "      <td>13157873.0</td>\n",
       "      <td>601685.0</td>\n",
       "      <td>490306.0</td>\n",
       "      <td>408350.0</td>\n",
       "      <td>462991.0</td>\n",
       "      <td>433367.0</td>\n",
       "      <td>464508.0</td>\n",
       "      <td>441513.0</td>\n",
       "      <td>451639.0</td>\n",
       "      <td>413466.0</td>\n",
       "      <td>832613.0</td>\n",
       "      <td>1183466.0</td>\n",
       "      <td>1645318.0</td>\n",
       "      <td>1344893.0</td>\n",
       "      <td>939786.0</td>\n",
       "      <td>1241231.0</td>\n",
       "      <td>1802741.0</td>\n",
       "      <td>MULTIPOLYGON (((-124.13656 41.46445, -124.1378...</td>\n",
       "    </tr>\n",
       "    <tr>\n",
       "      <th>2</th>\n",
       "      <td>Santa Clara County, CA</td>\n",
       "      <td>643637.0</td>\n",
       "      <td>15900.0</td>\n",
       "      <td>14760.0</td>\n",
       "      <td>11376.0</td>\n",
       "      <td>11703.0</td>\n",
       "      <td>12610.0</td>\n",
       "      <td>14817.0</td>\n",
       "      <td>13584.0</td>\n",
       "      <td>11966.0</td>\n",
       "      <td>12298.0</td>\n",
       "      <td>26984.0</td>\n",
       "      <td>42792.0</td>\n",
       "      <td>60495.0</td>\n",
       "      <td>57858.0</td>\n",
       "      <td>48078.0</td>\n",
       "      <td>85023.0</td>\n",
       "      <td>203393.0</td>\n",
       "      <td>MULTIPOLYGON (((-122.04412 37.20049, -122.0440...</td>\n",
       "    </tr>\n",
       "  </tbody>\n",
       "</table>\n",
       "</div>"
      ],
      "text/plain": [
       "                     name    B19001001  B19001002  B19001003  B19001004  \\\n",
       "0           United States  122802852.0  7118907.0  4940584.0  4838678.0   \n",
       "1              California   13157873.0   601685.0   490306.0   408350.0   \n",
       "2  Santa Clara County, CA     643637.0    15900.0    14760.0    11376.0   \n",
       "\n",
       "   B19001005  B19001006  B19001007  B19001008  B19001009  B19001010  \\\n",
       "0  5322157.0  4984288.0  5320934.0  4933391.0  5114120.0  4620661.0   \n",
       "1   462991.0   433367.0   464508.0   441513.0   451639.0   413466.0   \n",
       "2    11703.0    12610.0    14817.0    13584.0    11966.0    12298.0   \n",
       "\n",
       "   B19001011   B19001012   B19001013   B19001014  B19001015  B19001016  \\\n",
       "0  9080796.0  12247929.0  15752484.0  11650162.0  7652757.0  8802761.0   \n",
       "1   832613.0   1183466.0   1645318.0   1344893.0   939786.0  1241231.0   \n",
       "2    26984.0     42792.0     60495.0     57858.0    48078.0    85023.0   \n",
       "\n",
       "    B19001017                                           geometry  \n",
       "0  10422243.0  MULTIPOLYGON (((-168.22527 -14.53591, -168.199...  \n",
       "1   1802741.0  MULTIPOLYGON (((-124.13656 41.46445, -124.1378...  \n",
       "2    203393.0  MULTIPOLYGON (((-122.04412 37.20049, -122.0440...  "
      ]
     },
     "execution_count": 12,
     "metadata": {},
     "output_type": "execute_result"
    }
   ],
   "source": [
    "# verify the changes\n",
    "gdf.head()"
   ]
  },
  {
   "cell_type": "code",
   "execution_count": 13,
   "metadata": {},
   "outputs": [],
   "source": [
    "# column names\n",
    "column_names = ['name',\n",
    " 'Total Population',\n",
    " 'Less than $10,000',\n",
    " '\\$10,000 to $14,999',\n",
    " '\\$15,000 to $19,999',\n",
    " '\\$20,000 to $24,999',\n",
    " '\\$25,000 to $29,999',\n",
    " '\\$30,000 to $34,999',\n",
    " '\\$35,000 to $39,999',\n",
    " '\\$40,000 to $44,999',\n",
    " '\\$45,000 to $49,999',\n",
    " '\\$50,000 to $59,999',\n",
    " '\\$60,000 to $74,999',\n",
    " '\\$75,000 to $99,999',\n",
    " '\\$100,000 to $124,999',\n",
    " '\\$125,000 to $149,999',\n",
    " '\\$150,000 to $199,999',\n",
    " '\\$200,000 or more',\n",
    " 'geometry']"
   ]
  },
  {
   "cell_type": "code",
   "execution_count": 14,
   "metadata": {},
   "outputs": [],
   "source": [
    "# rename columns\n",
    "gdf.columns = column_names"
   ]
  },
  {
   "cell_type": "code",
   "execution_count": 15,
   "metadata": {},
   "outputs": [
    {
     "data": {
      "text/html": [
       "<div>\n",
       "<style scoped>\n",
       "    .dataframe tbody tr th:only-of-type {\n",
       "        vertical-align: middle;\n",
       "    }\n",
       "\n",
       "    .dataframe tbody tr th {\n",
       "        vertical-align: top;\n",
       "    }\n",
       "\n",
       "    .dataframe thead th {\n",
       "        text-align: right;\n",
       "    }\n",
       "</style>\n",
       "<table border=\"1\" class=\"dataframe\">\n",
       "  <thead>\n",
       "    <tr style=\"text-align: right;\">\n",
       "      <th></th>\n",
       "      <th>name</th>\n",
       "      <th>Total Population</th>\n",
       "      <th>Less than $10,000</th>\n",
       "      <th>\\$10,000 to $14,999</th>\n",
       "      <th>\\$15,000 to $19,999</th>\n",
       "      <th>\\$20,000 to $24,999</th>\n",
       "      <th>\\$25,000 to $29,999</th>\n",
       "      <th>\\$30,000 to $34,999</th>\n",
       "      <th>\\$35,000 to $39,999</th>\n",
       "      <th>\\$40,000 to $44,999</th>\n",
       "      <th>\\$45,000 to $49,999</th>\n",
       "      <th>\\$50,000 to $59,999</th>\n",
       "      <th>\\$60,000 to $74,999</th>\n",
       "      <th>\\$75,000 to $99,999</th>\n",
       "      <th>\\$100,000 to $124,999</th>\n",
       "      <th>\\$125,000 to $149,999</th>\n",
       "      <th>\\$150,000 to $199,999</th>\n",
       "      <th>\\$200,000 or more</th>\n",
       "      <th>geometry</th>\n",
       "    </tr>\n",
       "  </thead>\n",
       "  <tbody>\n",
       "    <tr>\n",
       "      <th>0</th>\n",
       "      <td>United States</td>\n",
       "      <td>122802852.0</td>\n",
       "      <td>7118907.0</td>\n",
       "      <td>4940584.0</td>\n",
       "      <td>4838678.0</td>\n",
       "      <td>5322157.0</td>\n",
       "      <td>4984288.0</td>\n",
       "      <td>5320934.0</td>\n",
       "      <td>4933391.0</td>\n",
       "      <td>5114120.0</td>\n",
       "      <td>4620661.0</td>\n",
       "      <td>9080796.0</td>\n",
       "      <td>12247929.0</td>\n",
       "      <td>15752484.0</td>\n",
       "      <td>11650162.0</td>\n",
       "      <td>7652757.0</td>\n",
       "      <td>8802761.0</td>\n",
       "      <td>10422243.0</td>\n",
       "      <td>MULTIPOLYGON (((-168.22527 -14.53591, -168.199...</td>\n",
       "    </tr>\n",
       "    <tr>\n",
       "      <th>1</th>\n",
       "      <td>California</td>\n",
       "      <td>13157873.0</td>\n",
       "      <td>601685.0</td>\n",
       "      <td>490306.0</td>\n",
       "      <td>408350.0</td>\n",
       "      <td>462991.0</td>\n",
       "      <td>433367.0</td>\n",
       "      <td>464508.0</td>\n",
       "      <td>441513.0</td>\n",
       "      <td>451639.0</td>\n",
       "      <td>413466.0</td>\n",
       "      <td>832613.0</td>\n",
       "      <td>1183466.0</td>\n",
       "      <td>1645318.0</td>\n",
       "      <td>1344893.0</td>\n",
       "      <td>939786.0</td>\n",
       "      <td>1241231.0</td>\n",
       "      <td>1802741.0</td>\n",
       "      <td>MULTIPOLYGON (((-124.13656 41.46445, -124.1378...</td>\n",
       "    </tr>\n",
       "    <tr>\n",
       "      <th>2</th>\n",
       "      <td>Santa Clara County, CA</td>\n",
       "      <td>643637.0</td>\n",
       "      <td>15900.0</td>\n",
       "      <td>14760.0</td>\n",
       "      <td>11376.0</td>\n",
       "      <td>11703.0</td>\n",
       "      <td>12610.0</td>\n",
       "      <td>14817.0</td>\n",
       "      <td>13584.0</td>\n",
       "      <td>11966.0</td>\n",
       "      <td>12298.0</td>\n",
       "      <td>26984.0</td>\n",
       "      <td>42792.0</td>\n",
       "      <td>60495.0</td>\n",
       "      <td>57858.0</td>\n",
       "      <td>48078.0</td>\n",
       "      <td>85023.0</td>\n",
       "      <td>203393.0</td>\n",
       "      <td>MULTIPOLYGON (((-122.04412 37.20049, -122.0440...</td>\n",
       "    </tr>\n",
       "  </tbody>\n",
       "</table>\n",
       "</div>"
      ],
      "text/plain": [
       "                     name  Total Population  Less than $10,000  \\\n",
       "0           United States       122802852.0          7118907.0   \n",
       "1              California        13157873.0           601685.0   \n",
       "2  Santa Clara County, CA          643637.0            15900.0   \n",
       "\n",
       "   \\$10,000 to $14,999  \\$15,000 to $19,999  \\$20,000 to $24,999  \\\n",
       "0            4940584.0            4838678.0            5322157.0   \n",
       "1             490306.0             408350.0             462991.0   \n",
       "2              14760.0              11376.0              11703.0   \n",
       "\n",
       "   \\$25,000 to $29,999  \\$30,000 to $34,999  \\$35,000 to $39,999  \\\n",
       "0            4984288.0            5320934.0            4933391.0   \n",
       "1             433367.0             464508.0             441513.0   \n",
       "2              12610.0              14817.0              13584.0   \n",
       "\n",
       "   \\$40,000 to $44,999  \\$45,000 to $49,999  \\$50,000 to $59,999  \\\n",
       "0            5114120.0            4620661.0            9080796.0   \n",
       "1             451639.0             413466.0             832613.0   \n",
       "2              11966.0              12298.0              26984.0   \n",
       "\n",
       "   \\$60,000 to $74,999  \\$75,000 to $99,999  \\$100,000 to $124,999  \\\n",
       "0           12247929.0           15752484.0             11650162.0   \n",
       "1            1183466.0            1645318.0              1344893.0   \n",
       "2              42792.0              60495.0                57858.0   \n",
       "\n",
       "   \\$125,000 to $149,999  \\$150,000 to $199,999  \\$200,000 or more  \\\n",
       "0              7652757.0              8802761.0         10422243.0   \n",
       "1               939786.0              1241231.0          1802741.0   \n",
       "2                48078.0                85023.0           203393.0   \n",
       "\n",
       "                                            geometry  \n",
       "0  MULTIPOLYGON (((-168.22527 -14.53591, -168.199...  \n",
       "1  MULTIPOLYGON (((-124.13656 41.46445, -124.1378...  \n",
       "2  MULTIPOLYGON (((-122.04412 37.20049, -122.0440...  "
      ]
     },
     "execution_count": 15,
     "metadata": {},
     "output_type": "execute_result"
    }
   ],
   "source": [
    "# verify changes\n",
    "gdf.head()"
   ]
  },
  {
   "cell_type": "code",
   "execution_count": 16,
   "metadata": {},
   "outputs": [
    {
     "data": {
      "text/plain": [
       "name                     False\n",
       "Total Population         False\n",
       "Less than $10,000        False\n",
       "\\$10,000 to $14,999      False\n",
       "\\$15,000 to $19,999      False\n",
       "\\$20,000 to $24,999      False\n",
       "\\$25,000 to $29,999      False\n",
       "\\$30,000 to $34,999      False\n",
       "\\$35,000 to $39,999      False\n",
       "\\$40,000 to $44,999      False\n",
       "\\$45,000 to $49,999      False\n",
       "\\$50,000 to $59,999      False\n",
       "\\$60,000 to $74,999      False\n",
       "\\$75,000 to $99,999      False\n",
       "\\$100,000 to $124,999    False\n",
       "\\$125,000 to $149,999    False\n",
       "\\$150,000 to $199,999    False\n",
       "\\$200,000 or more        False\n",
       "geometry                 False\n",
       "dtype: bool"
      ]
     },
     "execution_count": 16,
     "metadata": {},
     "output_type": "execute_result"
    }
   ],
   "source": [
    "# check for missing values\n",
    "gdf.isna().any()"
   ]
  },
  {
   "cell_type": "markdown",
   "metadata": {},
   "source": [
    "## Bar Plots of Income"
   ]
  },
  {
   "cell_type": "code",
   "execution_count": 17,
   "metadata": {},
   "outputs": [],
   "source": [
    "income_columns = [\n",
    " 'Less than $10,000',\n",
    " '\\$10,000 to $14,999',\n",
    " '\\$15,000 to $19,999',\n",
    " '\\$20,000 to $24,999',\n",
    " '\\$25,000 to $29,999',\n",
    " '\\$30,000 to $34,999',\n",
    " '\\$35,000 to $39,999',\n",
    " '\\$40,000 to $44,999',\n",
    " '\\$45,000 to $49,999',\n",
    " '\\$50,000 to $59,999',\n",
    " '\\$60,000 to $74,999',\n",
    " '\\$75,000 to $99,999',\n",
    " '\\$100,000 to $124,999',\n",
    " '\\$125,000 to $149,999',\n",
    " '\\$150,000 to $199,999',\n",
    " '\\$200,000 or more'\n",
    "]"
   ]
  },
  {
   "cell_type": "code",
   "execution_count": 18,
   "metadata": {},
   "outputs": [
    {
     "data": {
      "text/plain": [
       "<matplotlib.axes._subplots.AxesSubplot at 0x7f95dd6c5a90>"
      ]
     },
     "execution_count": 18,
     "metadata": {},
     "output_type": "execute_result"
    },
    {
     "data": {
      "image/png": "[encoded data removed]",
      "text/plain": [
       "<Figure size 432x288 with 1 Axes>"
      ]
     },
     "metadata": {
      "needs_background": "light"
     },
     "output_type": "display_data"
    }
   ],
   "source": [
    "# Bar plot of the United States Income\n",
    "gdf[gdf[\"name\"] == \"United States\"][income_columns].plot.bar()"
   ]
  },
  {
   "cell_type": "code",
   "execution_count": 19,
   "metadata": {},
   "outputs": [
    {
     "data": {
      "text/plain": [
       "<matplotlib.axes._subplots.AxesSubplot at 0x7f95df8da7c0>"
      ]
     },
     "execution_count": 19,
     "metadata": {},
     "output_type": "execute_result"
    },
    {
     "data": {
      "image/png": "[encoded data removed]",
      "text/plain": [
       "<Figure size 432x288 with 1 Axes>"
      ]
     },
     "metadata": {
      "needs_background": "light"
     },
     "output_type": "display_data"
    }
   ],
   "source": [
    "# Bar plot of California Income\n",
    "gdf[gdf[\"name\"] == \"California\"][income_columns].plot.bar()"
   ]
  },
  {
   "cell_type": "code",
   "execution_count": 20,
   "metadata": {},
   "outputs": [
    {
     "data": {
      "text/plain": [
       "<matplotlib.axes._subplots.AxesSubplot at 0x7f95dd6fc250>"
      ]
     },
     "execution_count": 20,
     "metadata": {},
     "output_type": "execute_result"
    },
    {
     "data": {
      "image/png": "[encoded data removed]",
      "text/plain": [
       "<Figure size 432x288 with 1 Axes>"
      ]
     },
     "metadata": {
      "needs_background": "light"
     },
     "output_type": "display_data"
    }
   ],
   "source": [
    "# Bar plot of Santa Clara County Income\n",
    "gdf[gdf[\"name\"] == \"Santa Clara County, CA\"][income_columns].plot.bar()"
   ]
  },
  {
   "cell_type": "code",
   "execution_count": 50,
   "metadata": {},
   "outputs": [
    {
     "data": {
      "text/plain": [
       "0    1.0\n",
       "dtype: float64"
      ]
     },
     "execution_count": 50,
     "metadata": {},
     "output_type": "execute_result"
    }
   ],
   "source": [
    "# Normalize United States Income\n",
    "US_income_norm = gdf[gdf[\"name\"] == \"United States\"][income_columns] / gdf[gdf[\"name\"] == \"United States\"][\"Total Population\"][0]\n",
    "# Verify sum is 1\n",
    "US_income_norm.sum(axis=1)"
   ]
  },
  {
   "cell_type": "code",
   "execution_count": 51,
   "metadata": {},
   "outputs": [
    {
     "data": {
      "text/plain": [
       "1    1.0\n",
       "dtype: float64"
      ]
     },
     "execution_count": 51,
     "metadata": {},
     "output_type": "execute_result"
    }
   ],
   "source": [
    "# Normalize California Income\n",
    "CA_income_norm = gdf[gdf[\"name\"] == \"California\"][income_columns] / gdf[gdf[\"name\"] == \"California\"][\"Total Population\"][1]\n",
    "# Verify sum is 1\n",
    "CA_income_norm.sum(axis=1)"
   ]
  },
  {
   "cell_type": "code",
   "execution_count": 52,
   "metadata": {},
   "outputs": [
    {
     "data": {
      "text/plain": [
       "2    1.0\n",
       "dtype: float64"
      ]
     },
     "execution_count": 52,
     "metadata": {},
     "output_type": "execute_result"
    }
   ],
   "source": [
    "# Normalize Santa Clara County Income\n",
    "SCC_income_norm = gdf[gdf[\"name\"] == \"Santa Clara County, CA\"][income_columns] / gdf[gdf[\"name\"] == \"Santa Clara County, CA\"][\"Total Population\"][2]\n",
    "# Verify sum is 1\n",
    "SCC_income_norm.sum(axis=1)"
   ]
  },
  {
   "cell_type": "code",
   "execution_count": 80,
   "metadata": {},
   "outputs": [
    {
     "data": {
      "text/html": [
       "<div>\n",
       "<style scoped>\n",
       "    .dataframe tbody tr th:only-of-type {\n",
       "        vertical-align: middle;\n",
       "    }\n",
       "\n",
       "    .dataframe tbody tr th {\n",
       "        vertical-align: top;\n",
       "    }\n",
       "\n",
       "    .dataframe thead th {\n",
       "        text-align: right;\n",
       "    }\n",
       "</style>\n",
       "<table border=\"1\" class=\"dataframe\">\n",
       "  <thead>\n",
       "    <tr style=\"text-align: right;\">\n",
       "      <th></th>\n",
       "      <th>Less than $10,000</th>\n",
       "      <th>\\$10,000 to $14,999</th>\n",
       "      <th>\\$15,000 to $19,999</th>\n",
       "      <th>\\$20,000 to $24,999</th>\n",
       "      <th>\\$25,000 to $29,999</th>\n",
       "      <th>\\$30,000 to $34,999</th>\n",
       "      <th>\\$35,000 to $39,999</th>\n",
       "      <th>\\$40,000 to $44,999</th>\n",
       "      <th>\\$45,000 to $49,999</th>\n",
       "      <th>\\$50,000 to $59,999</th>\n",
       "      <th>\\$60,000 to $74,999</th>\n",
       "      <th>\\$75,000 to $99,999</th>\n",
       "      <th>\\$100,000 to $124,999</th>\n",
       "      <th>\\$125,000 to $149,999</th>\n",
       "      <th>\\$150,000 to $199,999</th>\n",
       "      <th>\\$200,000 or more</th>\n",
       "    </tr>\n",
       "  </thead>\n",
       "  <tbody>\n",
       "    <tr>\n",
       "      <th>United States</th>\n",
       "      <td>0.057970</td>\n",
       "      <td>0.040232</td>\n",
       "      <td>0.039402</td>\n",
       "      <td>0.043339</td>\n",
       "      <td>0.040588</td>\n",
       "      <td>0.043329</td>\n",
       "      <td>0.040173</td>\n",
       "      <td>0.041645</td>\n",
       "      <td>0.037627</td>\n",
       "      <td>0.073946</td>\n",
       "      <td>0.099737</td>\n",
       "      <td>0.128275</td>\n",
       "      <td>0.094869</td>\n",
       "      <td>0.062317</td>\n",
       "      <td>0.071682</td>\n",
       "      <td>0.084870</td>\n",
       "    </tr>\n",
       "    <tr>\n",
       "      <th>California</th>\n",
       "      <td>0.045728</td>\n",
       "      <td>0.037263</td>\n",
       "      <td>0.031035</td>\n",
       "      <td>0.035187</td>\n",
       "      <td>0.032936</td>\n",
       "      <td>0.035303</td>\n",
       "      <td>0.033555</td>\n",
       "      <td>0.034325</td>\n",
       "      <td>0.031423</td>\n",
       "      <td>0.063279</td>\n",
       "      <td>0.089944</td>\n",
       "      <td>0.125044</td>\n",
       "      <td>0.102212</td>\n",
       "      <td>0.071424</td>\n",
       "      <td>0.094334</td>\n",
       "      <td>0.137009</td>\n",
       "    </tr>\n",
       "    <tr>\n",
       "      <th>Santa Clara County, CA</th>\n",
       "      <td>0.024703</td>\n",
       "      <td>0.022932</td>\n",
       "      <td>0.017675</td>\n",
       "      <td>0.018183</td>\n",
       "      <td>0.019592</td>\n",
       "      <td>0.023021</td>\n",
       "      <td>0.021105</td>\n",
       "      <td>0.018591</td>\n",
       "      <td>0.019107</td>\n",
       "      <td>0.041924</td>\n",
       "      <td>0.066485</td>\n",
       "      <td>0.093989</td>\n",
       "      <td>0.089892</td>\n",
       "      <td>0.074697</td>\n",
       "      <td>0.132098</td>\n",
       "      <td>0.316006</td>\n",
       "    </tr>\n",
       "  </tbody>\n",
       "</table>\n",
       "</div>"
      ],
      "text/plain": [
       "                        Less than $10,000  \\$10,000 to $14,999  \\\n",
       "United States                    0.057970             0.040232   \n",
       "California                       0.045728             0.037263   \n",
       "Santa Clara County, CA           0.024703             0.022932   \n",
       "\n",
       "                        \\$15,000 to $19,999  \\$20,000 to $24,999  \\\n",
       "United States                      0.039402             0.043339   \n",
       "California                         0.031035             0.035187   \n",
       "Santa Clara County, CA             0.017675             0.018183   \n",
       "\n",
       "                        \\$25,000 to $29,999  \\$30,000 to $34,999  \\\n",
       "United States                      0.040588             0.043329   \n",
       "California                         0.032936             0.035303   \n",
       "Santa Clara County, CA             0.019592             0.023021   \n",
       "\n",
       "                        \\$35,000 to $39,999  \\$40,000 to $44,999  \\\n",
       "United States                      0.040173             0.041645   \n",
       "California                         0.033555             0.034325   \n",
       "Santa Clara County, CA             0.021105             0.018591   \n",
       "\n",
       "                        \\$45,000 to $49,999  \\$50,000 to $59,999  \\\n",
       "United States                      0.037627             0.073946   \n",
       "California                         0.031423             0.063279   \n",
       "Santa Clara County, CA             0.019107             0.041924   \n",
       "\n",
       "                        \\$60,000 to $74,999  \\$75,000 to $99,999  \\\n",
       "United States                      0.099737             0.128275   \n",
       "California                         0.089944             0.125044   \n",
       "Santa Clara County, CA             0.066485             0.093989   \n",
       "\n",
       "                        \\$100,000 to $124,999  \\$125,000 to $149,999  \\\n",
       "United States                        0.094869               0.062317   \n",
       "California                           0.102212               0.071424   \n",
       "Santa Clara County, CA               0.089892               0.074697   \n",
       "\n",
       "                        \\$150,000 to $199,999  \\$200,000 or more  \n",
       "United States                        0.071682           0.084870  \n",
       "California                           0.094334           0.137009  \n",
       "Santa Clara County, CA               0.132098           0.316006  "
      ]
     },
     "execution_count": 80,
     "metadata": {},
     "output_type": "execute_result"
    }
   ],
   "source": [
    "# Merge Normalized Income into one Data Frame\n",
    "gdf_income_norm = pd.concat([US_income_norm, CA_income_norm, SCC_income_norm])\n",
    "gdf_income_norm.rename({0:\"United States\", 1:\"California\", 2:\"Santa Clara County, CA\"}, inplace = True)\n",
    "gdf_income_norm"
   ]
  },
  {
   "cell_type": "code",
   "execution_count": 92,
   "metadata": {},
   "outputs": [
    {
     "data": {
      "text/plain": [
       "<matplotlib.axes._subplots.AxesSubplot at 0x7f95cc30daf0>"
      ]
     },
     "execution_count": 92,
     "metadata": {},
     "output_type": "execute_result"
    },
    {
     "data": {
      "image/png": "[encoded data removed]",
      "text/plain": [
       "<Figure size 1080x1440 with 1 Axes>"
      ]
     },
     "metadata": {
      "needs_background": "light"
     },
     "output_type": "display_data"
    }
   ],
   "source": [
    "# Side by Side comparison of Income between United States, CA, and Santa Clara County\n",
    "gdf_income_norm.plot.bar(figsize = (15, 20), title = \"Income Distibution\")"
   ]
  },
  {
   "cell_type": "code",
   "execution_count": null,
   "metadata": {},
   "outputs": [],
   "source": []
  }
 ],
 "metadata": {
  "kernelspec": {
   "display_name": "Python 3",
   "language": "python",
   "name": "python3"
  },
  "language_info": {
   "codemirror_mode": {
    "name": "ipython",
    "version": 3
   },
   "file_extension": ".py",
   "mimetype": "text/x-python",
   "name": "python",
   "nbconvert_exporter": "python",
   "pygments_lexer": "ipython3",
   "version": "3.8.5"
  },
  "toc": {
   "base_numbering": 1,
   "nav_menu": {},
   "number_sections": true,
   "sideBar": true,
   "skip_h1_title": false,
   "title_cell": "Table of Contents",
   "title_sidebar": "Contents",
   "toc_cell": false,
   "toc_position": {},
   "toc_section_display": true,
   "toc_window_display": false
  }
 },
 "nbformat": 4,
 "nbformat_minor": 4
}
